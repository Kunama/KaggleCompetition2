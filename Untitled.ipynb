{
 "cells": [
  {
   "cell_type": "code",
   "execution_count": 7,
   "metadata": {},
   "outputs": [],
   "source": [
    "from sklearn.neural_network import MLPClassifier\n",
    "from sklearn.model_selection import train_test_split\n",
    "from sklearn.linear_model import Perceptron\n",
    "from sklearn.svm import LinearSVC\n",
    "from sklearn.metrics import log_loss\n",
    "import pandas as pd\n",
    "\n",
    "import numpy as np\n"
   ]
  },
  {
   "cell_type": "code",
   "execution_count": 25,
   "metadata": {},
   "outputs": [
    {
     "name": "stdout",
     "output_type": "stream",
     "text": [
      "12379\n",
      "12379\n"
     ]
    },
    {
     "data": {
      "text/html": [
       "<div>\n",
       "<style scoped>\n",
       "    .dataframe tbody tr th:only-of-type {\n",
       "        vertical-align: middle;\n",
       "    }\n",
       "\n",
       "    .dataframe tbody tr th {\n",
       "        vertical-align: top;\n",
       "    }\n",
       "\n",
       "    .dataframe thead th {\n",
       "        text-align: right;\n",
       "    }\n",
       "</style>\n",
       "<table border=\"1\" class=\"dataframe\">\n",
       "  <thead>\n",
       "    <tr style=\"text-align: right;\">\n",
       "      <th></th>\n",
       "      <th>Unnamed: 0</th>\n",
       "      <th>Ticker</th>\n",
       "      <th>Revenue</th>\n",
       "      <th>Revenue Growth</th>\n",
       "      <th>Gross Profit</th>\n",
       "      <th>SG&amp;A Expense</th>\n",
       "      <th>Operating Expenses</th>\n",
       "      <th>Operating Income</th>\n",
       "      <th>Earnings before Tax</th>\n",
       "      <th>Net Income</th>\n",
       "      <th>...</th>\n",
       "      <th>EPS Growth</th>\n",
       "      <th>EPS Diluted Growth</th>\n",
       "      <th>Weighted Average Shares Growth</th>\n",
       "      <th>Operating Cash Flow growth</th>\n",
       "      <th>Free Cash Flow growth</th>\n",
       "      <th>Asset Growth</th>\n",
       "      <th>Book Value per Share Growth</th>\n",
       "      <th>SG&amp;A Expenses Growth</th>\n",
       "      <th>Sector</th>\n",
       "      <th>Yr</th>\n",
       "    </tr>\n",
       "  </thead>\n",
       "  <tbody>\n",
       "    <tr>\n",
       "      <td>0</td>\n",
       "      <td>4685</td>\n",
       "      <td>MGEN</td>\n",
       "      <td>2.538000e+06</td>\n",
       "      <td>-0.4125</td>\n",
       "      <td>6.600000e+04</td>\n",
       "      <td>10251000.0</td>\n",
       "      <td>1.125300e+07</td>\n",
       "      <td>-1.118700e+07</td>\n",
       "      <td>-1.132800e+07</td>\n",
       "      <td>-1.132800e+07</td>\n",
       "      <td>...</td>\n",
       "      <td>0.5994</td>\n",
       "      <td>0.5994</td>\n",
       "      <td>2.5853</td>\n",
       "      <td>-2.1170</td>\n",
       "      <td>-1.8322</td>\n",
       "      <td>0.5950</td>\n",
       "      <td>-0.5153</td>\n",
       "      <td>0.3534</td>\n",
       "      <td>Healthcare</td>\n",
       "      <td>15</td>\n",
       "    </tr>\n",
       "    <tr>\n",
       "      <td>1</td>\n",
       "      <td>3142</td>\n",
       "      <td>SO</td>\n",
       "      <td>1.846700e+10</td>\n",
       "      <td>0.0808</td>\n",
       "      <td>6.455000e+09</td>\n",
       "      <td>0.0</td>\n",
       "      <td>1.945000e+09</td>\n",
       "      <td>4.510000e+09</td>\n",
       "      <td>3.008000e+09</td>\n",
       "      <td>2.031000e+09</td>\n",
       "      <td>...</td>\n",
       "      <td>0.1649</td>\n",
       "      <td>0.1658</td>\n",
       "      <td>0.0228</td>\n",
       "      <td>-0.0463</td>\n",
       "      <td>-0.0906</td>\n",
       "      <td>0.0881</td>\n",
       "      <td>0.0352</td>\n",
       "      <td>0.0000</td>\n",
       "      <td>Utilities</td>\n",
       "      <td>14</td>\n",
       "    </tr>\n",
       "    <tr>\n",
       "      <td>2</td>\n",
       "      <td>15877</td>\n",
       "      <td>ONDK</td>\n",
       "      <td>3.509500e+08</td>\n",
       "      <td>0.2047</td>\n",
       "      <td>1.518250e+08</td>\n",
       "      <td>94702000.0</td>\n",
       "      <td>1.661700e+08</td>\n",
       "      <td>-1.434500e+07</td>\n",
       "      <td>-1.153400e+07</td>\n",
       "      <td>-1.153400e+07</td>\n",
       "      <td>...</td>\n",
       "      <td>0.8632</td>\n",
       "      <td>0.8632</td>\n",
       "      <td>0.0276</td>\n",
       "      <td>0.5657</td>\n",
       "      <td>0.6748</td>\n",
       "      <td>-0.0639</td>\n",
       "      <td>-0.0175</td>\n",
       "      <td>-0.1790</td>\n",
       "      <td>Financial Services</td>\n",
       "      <td>17</td>\n",
       "    </tr>\n",
       "    <tr>\n",
       "      <td>3</td>\n",
       "      <td>6977</td>\n",
       "      <td>FFNW</td>\n",
       "      <td>3.392500e+07</td>\n",
       "      <td>-0.0320</td>\n",
       "      <td>3.392500e+07</td>\n",
       "      <td>19533000.0</td>\n",
       "      <td>1.987800e+07</td>\n",
       "      <td>1.404700e+07</td>\n",
       "      <td>1.404700e+07</td>\n",
       "      <td>9.160000e+06</td>\n",
       "      <td>...</td>\n",
       "      <td>-0.0694</td>\n",
       "      <td>-0.0563</td>\n",
       "      <td>-0.0826</td>\n",
       "      <td>-0.1006</td>\n",
       "      <td>-0.1873</td>\n",
       "      <td>0.0458</td>\n",
       "      <td>0.0255</td>\n",
       "      <td>0.1465</td>\n",
       "      <td>Financial Services</td>\n",
       "      <td>15</td>\n",
       "    </tr>\n",
       "    <tr>\n",
       "      <td>4</td>\n",
       "      <td>8237</td>\n",
       "      <td>IFF</td>\n",
       "      <td>3.116350e+09</td>\n",
       "      <td>0.0308</td>\n",
       "      <td>1.395563e+09</td>\n",
       "      <td>572518000.0</td>\n",
       "      <td>8.426080e+08</td>\n",
       "      <td>5.529550e+08</td>\n",
       "      <td>5.237170e+08</td>\n",
       "      <td>4.050310e+08</td>\n",
       "      <td>...</td>\n",
       "      <td>-0.0231</td>\n",
       "      <td>-0.0213</td>\n",
       "      <td>-0.0100</td>\n",
       "      <td>0.1772</td>\n",
       "      <td>0.1619</td>\n",
       "      <td>0.0851</td>\n",
       "      <td>0.0329</td>\n",
       "      <td>0.1577</td>\n",
       "      <td>Basic Materials</td>\n",
       "      <td>16</td>\n",
       "    </tr>\n",
       "  </tbody>\n",
       "</table>\n",
       "<p>5 rows × 100 columns</p>\n",
       "</div>"
      ],
      "text/plain": [
       "   Unnamed: 0 Ticker       Revenue  Revenue Growth  Gross Profit  \\\n",
       "0        4685   MGEN  2.538000e+06         -0.4125  6.600000e+04   \n",
       "1        3142     SO  1.846700e+10          0.0808  6.455000e+09   \n",
       "2       15877   ONDK  3.509500e+08          0.2047  1.518250e+08   \n",
       "3        6977   FFNW  3.392500e+07         -0.0320  3.392500e+07   \n",
       "4        8237    IFF  3.116350e+09          0.0308  1.395563e+09   \n",
       "\n",
       "   SG&A Expense  Operating Expenses  Operating Income  Earnings before Tax  \\\n",
       "0    10251000.0        1.125300e+07     -1.118700e+07        -1.132800e+07   \n",
       "1           0.0        1.945000e+09      4.510000e+09         3.008000e+09   \n",
       "2    94702000.0        1.661700e+08     -1.434500e+07        -1.153400e+07   \n",
       "3    19533000.0        1.987800e+07      1.404700e+07         1.404700e+07   \n",
       "4   572518000.0        8.426080e+08      5.529550e+08         5.237170e+08   \n",
       "\n",
       "     Net Income  ...  EPS Growth  EPS Diluted Growth  \\\n",
       "0 -1.132800e+07  ...      0.5994              0.5994   \n",
       "1  2.031000e+09  ...      0.1649              0.1658   \n",
       "2 -1.153400e+07  ...      0.8632              0.8632   \n",
       "3  9.160000e+06  ...     -0.0694             -0.0563   \n",
       "4  4.050310e+08  ...     -0.0231             -0.0213   \n",
       "\n",
       "   Weighted Average Shares Growth  Operating Cash Flow growth  \\\n",
       "0                          2.5853                     -2.1170   \n",
       "1                          0.0228                     -0.0463   \n",
       "2                          0.0276                      0.5657   \n",
       "3                         -0.0826                     -0.1006   \n",
       "4                         -0.0100                      0.1772   \n",
       "\n",
       "   Free Cash Flow growth  Asset Growth  Book Value per Share Growth  \\\n",
       "0                -1.8322        0.5950                      -0.5153   \n",
       "1                -0.0906        0.0881                       0.0352   \n",
       "2                 0.6748       -0.0639                      -0.0175   \n",
       "3                -0.1873        0.0458                       0.0255   \n",
       "4                 0.1619        0.0851                       0.0329   \n",
       "\n",
       "   SG&A Expenses Growth              Sector  Yr  \n",
       "0                0.3534          Healthcare  15  \n",
       "1                0.0000           Utilities  14  \n",
       "2               -0.1790  Financial Services  17  \n",
       "3                0.1465  Financial Services  15  \n",
       "4                0.1577     Basic Materials  16  \n",
       "\n",
       "[5 rows x 100 columns]"
      ]
     },
     "execution_count": 25,
     "metadata": {},
     "output_type": "execute_result"
    }
   ],
   "source": [
    "df = pd.read_csv('stock_XY_train.csv')\n",
    "df = df.replace([0,' ','NULL'],np.nan)\n",
    "print(len(df))\n",
    "\n",
    "y = df[\"Buy\"]\n",
    "df = df.drop('Buy',axis=1)\n",
    "df = df.dropna(thresh=0.82*len(df), axis=1)\n",
    "df.fillna(0, inplace=True)\n",
    "y.fillna(0,inplace=True)\n",
    "print(len(df))\n",
    "df.head()"
   ]
  },
  {
   "cell_type": "code",
   "execution_count": null,
   "metadata": {},
   "outputs": [],
   "source": [
    "df = df.dropna(thresh=175)\n",
    "df = df.drop('Unnamed: 0',axis=1)\n",
    "df = df.drop('Ticker',axis=1)\n",
    "df = df.drop('Yr',axis=1)\n",
    "df = df.drop('cashConversionCycle',axis=1)\n",
    "df = df.drop('Sector',axis=1)\n",
    "df = df.drop('operatingCycle',axis=1)"
   ]
  },
  {
   "cell_type": "code",
   "execution_count": 4,
   "metadata": {},
   "outputs": [],
   "source": [
    "X_train, X_test, y_train, y_test = train_test_split(df, y, test_size=0.33)"
   ]
  },
  {
   "cell_type": "code",
   "execution_count": 10,
   "metadata": {},
   "outputs": [
    {
     "name": "stdout",
     "output_type": "stream",
     "text": [
      "16.316452768322325\n"
     ]
    },
    {
     "name": "stderr",
     "output_type": "stream",
     "text": [
      "/Library/Frameworks/Python.framework/Versions/3.6/lib/python3.6/site-packages/sklearn/svm/_base.py:947: ConvergenceWarning: Liblinear failed to converge, increase the number of iterations.\n",
      "  \"the number of iterations.\", ConvergenceWarning)\n"
     ]
    }
   ],
   "source": [
    "#SVC\n",
    "model = LinearSVC(random_state=1, tol=1e-5)\n",
    "model.fit(X_train, y_train)\n",
    "y_hat = model.predict(X_train)\n",
    "print(log_loss(y_train, y_hat))"
   ]
  },
  {
   "cell_type": "code",
   "execution_count": 23,
   "metadata": {},
   "outputs": [
    {
     "name": "stdout",
     "output_type": "stream",
     "text": [
      "16.914561645344385\n"
     ]
    },
    {
     "name": "stderr",
     "output_type": "stream",
     "text": [
      "/Library/Frameworks/Python.framework/Versions/3.6/lib/python3.6/site-packages/sklearn/neural_network/_multilayer_perceptron.py:571: ConvergenceWarning: Stochastic Optimizer: Maximum iterations (200) reached and the optimization hasn't converged yet.\n",
      "  % self.max_iter, ConvergenceWarning)\n"
     ]
    }
   ],
   "source": [
    "#NN\n",
    "model = MLPClassifier(learning_rate=\"invscaling\")\n",
    "model.fit(X_train, y_train)\n",
    "y_hat = model.predict(X_test)\n",
    "print(log_loss(y_test, y_hat))"
   ]
  },
  {
   "cell_type": "code",
   "execution_count": 15,
   "metadata": {},
   "outputs": [
    {
     "name": "stdout",
     "output_type": "stream",
     "text": [
      "16.258086955925233\n"
     ]
    }
   ],
   "source": [
    "#Perceptron\n",
    "model = Perceptron(random_state=1, penalty='elasticnet', eta0=200)\n",
    "model.fit(X_train, y_train)\n",
    "y_hat = model.predict(X_test)\n",
    "print(log_loss(y_test, y_hat))"
   ]
  },
  {
   "cell_type": "code",
   "execution_count": null,
   "metadata": {},
   "outputs": [],
   "source": []
  }
 ],
 "metadata": {
  "kernelspec": {
   "display_name": "Python 3.6.5 64-bit",
   "language": "python",
   "name": "python36564bit2e1014d7e43e4ef0b08b878f708b0482"
  },
  "language_info": {
   "codemirror_mode": {
    "name": "ipython",
    "version": 3
   },
   "file_extension": ".py",
   "mimetype": "text/x-python",
   "name": "python",
   "nbconvert_exporter": "python",
   "pygments_lexer": "ipython3",
   "version": "3.6.5"
  }
 },
 "nbformat": 4,
 "nbformat_minor": 4
}
